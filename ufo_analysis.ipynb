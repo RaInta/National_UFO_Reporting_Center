{
 "cells": [
  {
   "cell_type": "markdown",
   "metadata": {},
   "source": [
    "# Analyzing the National UFO Reporting Center's Database\n"
   ]
  },
  {
   "cell_type": "code",
   "execution_count": 2,
   "metadata": {},
   "outputs": [
    {
     "data": {
      "text/html": [
       "<img src=\"images/panda_ufo.png\">"
      ],
      "text/plain": [
       "<IPython.core.display.HTML object>"
      ]
     },
     "metadata": {},
     "output_type": "display_data"
    }
   ],
   "source": [
    "%%html\n",
    "<img src=\"images/panda_ufo.png\">"
   ]
  },
  {
   "cell_type": "code",
   "execution_count": 35,
   "metadata": {},
   "outputs": [],
   "source": [
    "import pandas as pd\n",
    "import matplotlib as mpl\n",
    "\n",
    "mpl.rcParams['font.family'] = 'Souvenir'  # The font from the original A&D manuals!\n",
    "mpl.rcParams.update(\n",
    "    {'font.size': 12, 'lines.linewidth': 2, 'lines.markersize': 5}\n",
    "    )\n",
    "%matplotlib inline"
   ]
  },
  {
   "cell_type": "markdown",
   "metadata": {},
   "source": [
    "First of all, you should _always_, whenever possible, have a quick look at the data before importing it, with a text editor, database tool, etc.:\n",
    "\n",
    "\n",
    " date_time,year,month,city,state,shape,duration,posted,url\n",
    " 8/30/18 22:00,2018,08,Morehead City,NC,Unknown,1 hour,8/31/18,http://www.nuforc.org/webreports/142/S142925.html\n",
    " 8/30/18 21:36,2018,08,Commerce,GA,Circle,5 seconds,8/31/18,http://www.nuforc.org/webreports/142/S142924.html\n",
    " 8/30/18 21:15,2018,08,Queens Village,NY,Light,15 minutes,8/31/18,http://www.nuforc.org/webreports/142/S142929.html\n",
    "\n",
    "I prefer the excellent file pager, `less`, which is perfect for examining large files."
   ]
  },
  {
   "cell_type": "markdown",
   "metadata": {},
   "source": [
    "### Importing data\n",
    "Importing with pandas is very easy. We have stored our UFO Reports data in a\n",
    "Comma Separated Variable (CSV) file."
   ]
  },
  {
   "cell_type": "code",
   "execution_count": 4,
   "metadata": {},
   "outputs": [],
   "source": [
    "ufo_df = pd.read_csv(\"national_ufo_reports.csv\")"
   ]
  },
  {
   "cell_type": "markdown",
   "metadata": {},
   "source": [
    "As a naming convention, we often put a _df at the end of a variable name to remind us that it is a DataFrame object. Recall a DataFrame is a collection of\n",
    "Series objects. For a wide format, it is helpful to think of each column as a variable and each row as an observation. It is a simple matter to interrogate\n",
    "the first few elements using the `.head()` method associated with pandas DataFrames:"
   ]
  },
  {
   "cell_type": "code",
   "execution_count": 5,
   "metadata": {},
   "outputs": [
    {
     "data": {
      "text/html": [
       "<div>\n",
       "<style scoped>\n",
       "    .dataframe tbody tr th:only-of-type {\n",
       "        vertical-align: middle;\n",
       "    }\n",
       "\n",
       "    .dataframe tbody tr th {\n",
       "        vertical-align: top;\n",
       "    }\n",
       "\n",
       "    .dataframe thead th {\n",
       "        text-align: right;\n",
       "    }\n",
       "</style>\n",
       "<table border=\"1\" class=\"dataframe\">\n",
       "  <thead>\n",
       "    <tr style=\"text-align: right;\">\n",
       "      <th></th>\n",
       "      <th>date_time</th>\n",
       "      <th>year</th>\n",
       "      <th>month</th>\n",
       "      <th>city</th>\n",
       "      <th>state</th>\n",
       "      <th>shape</th>\n",
       "      <th>duration</th>\n",
       "      <th>posted</th>\n",
       "      <th>url</th>\n",
       "    </tr>\n",
       "  </thead>\n",
       "  <tbody>\n",
       "    <tr>\n",
       "      <th>0</th>\n",
       "      <td>8/30/18 22:00</td>\n",
       "      <td>2018</td>\n",
       "      <td>8</td>\n",
       "      <td>Morehead City</td>\n",
       "      <td>NC</td>\n",
       "      <td>Unknown</td>\n",
       "      <td>1 hour</td>\n",
       "      <td>8/31/18</td>\n",
       "      <td>http://www.nuforc.org/webreports/142/S142925.html</td>\n",
       "    </tr>\n",
       "    <tr>\n",
       "      <th>1</th>\n",
       "      <td>8/30/18 21:36</td>\n",
       "      <td>2018</td>\n",
       "      <td>8</td>\n",
       "      <td>Commerce</td>\n",
       "      <td>GA</td>\n",
       "      <td>Circle</td>\n",
       "      <td>5 seconds</td>\n",
       "      <td>8/31/18</td>\n",
       "      <td>http://www.nuforc.org/webreports/142/S142924.html</td>\n",
       "    </tr>\n",
       "    <tr>\n",
       "      <th>2</th>\n",
       "      <td>8/30/18 21:15</td>\n",
       "      <td>2018</td>\n",
       "      <td>8</td>\n",
       "      <td>Queens Village</td>\n",
       "      <td>NY</td>\n",
       "      <td>Light</td>\n",
       "      <td>15 minutes</td>\n",
       "      <td>8/31/18</td>\n",
       "      <td>http://www.nuforc.org/webreports/142/S142929.html</td>\n",
       "    </tr>\n",
       "    <tr>\n",
       "      <th>3</th>\n",
       "      <td>8/30/18 20:48</td>\n",
       "      <td>2018</td>\n",
       "      <td>8</td>\n",
       "      <td>Independence</td>\n",
       "      <td>KS</td>\n",
       "      <td>Unknown</td>\n",
       "      <td>3 minutes</td>\n",
       "      <td>8/31/18</td>\n",
       "      <td>http://www.nuforc.org/webreports/142/S142928.html</td>\n",
       "    </tr>\n",
       "    <tr>\n",
       "      <th>4</th>\n",
       "      <td>8/30/18 20:25</td>\n",
       "      <td>2018</td>\n",
       "      <td>8</td>\n",
       "      <td>Redding</td>\n",
       "      <td>CA</td>\n",
       "      <td>Light</td>\n",
       "      <td>5 seconds</td>\n",
       "      <td>8/31/18</td>\n",
       "      <td>http://www.nuforc.org/webreports/142/S142926.html</td>\n",
       "    </tr>\n",
       "  </tbody>\n",
       "</table>\n",
       "</div>"
      ],
      "text/plain": [
       "       date_time  year  month            city state    shape    duration  \\\n",
       "0  8/30/18 22:00  2018      8   Morehead City    NC  Unknown      1 hour   \n",
       "1  8/30/18 21:36  2018      8        Commerce    GA   Circle   5 seconds   \n",
       "2  8/30/18 21:15  2018      8  Queens Village    NY    Light  15 minutes   \n",
       "3  8/30/18 20:48  2018      8    Independence    KS  Unknown   3 minutes   \n",
       "4  8/30/18 20:25  2018      8         Redding    CA    Light   5 seconds   \n",
       "\n",
       "    posted                                                url  \n",
       "0  8/31/18  http://www.nuforc.org/webreports/142/S142925.html  \n",
       "1  8/31/18  http://www.nuforc.org/webreports/142/S142924.html  \n",
       "2  8/31/18  http://www.nuforc.org/webreports/142/S142929.html  \n",
       "3  8/31/18  http://www.nuforc.org/webreports/142/S142928.html  \n",
       "4  8/31/18  http://www.nuforc.org/webreports/142/S142926.html  "
      ]
     },
     "execution_count": 5,
     "metadata": {},
     "output_type": "execute_result"
    }
   ],
   "source": [
    "ufo_df.head(5)"
   ]
  },
  {
   "cell_type": "markdown",
   "metadata": {},
   "source": [
    "Note the row indices (here, 0 - 5) and column labels ('date_time' - 'url'). We can easily call any given element. We can look at the Series from any column by directly calling it with `[]` (note the use of `.head()` here to suppress the otherwise large number of rows):"
   ]
  },
  {
   "cell_type": "code",
   "execution_count": 6,
   "metadata": {},
   "outputs": [
    {
     "data": {
      "text/plain": [
       "0    8/30/18 22:00\n",
       "1    8/30/18 21:36\n",
       "2    8/30/18 21:15\n",
       "3    8/30/18 20:48\n",
       "4    8/30/18 20:25\n",
       "Name: date_time, dtype: object"
      ]
     },
     "execution_count": 6,
     "metadata": {},
     "output_type": "execute_result"
    }
   ],
   "source": [
    "ufo_df['date_time'].head()  # Note the default for .head() is the first five rows."
   ]
  },
  {
   "cell_type": "markdown",
   "metadata": {},
   "source": [
    "We could look at the fourth row (index of 3 because, as usual, we index from 0):"
   ]
  },
  {
   "cell_type": "code",
   "execution_count": 7,
   "metadata": {},
   "outputs": [
    {
     "data": {
      "text/plain": [
       "date_time                                        8/30/18 20:48\n",
       "year                                                      2018\n",
       "month                                                        8\n",
       "city                                              Independence\n",
       "state                                                       KS\n",
       "shape                                                  Unknown\n",
       "duration                                             3 minutes\n",
       "posted                                                 8/31/18\n",
       "url          http://www.nuforc.org/webreports/142/S142928.html\n",
       "Name: 3, dtype: object"
      ]
     },
     "execution_count": 7,
     "metadata": {},
     "output_type": "execute_result"
    }
   ],
   "source": [
    "ufo_df.loc[3]"
   ]
  },
  {
   "cell_type": "markdown",
   "metadata": {},
   "source": [
    "Because the head of a data file tends to have localized observations, it often pays to take a random sample of a DataFrame, to better gauge the general variability of the dataset. To take five such random samples:"
   ]
  },
  {
   "cell_type": "code",
   "execution_count": 8,
   "metadata": {},
   "outputs": [
    {
     "data": {
      "text/html": [
       "<div>\n",
       "<style scoped>\n",
       "    .dataframe tbody tr th:only-of-type {\n",
       "        vertical-align: middle;\n",
       "    }\n",
       "\n",
       "    .dataframe tbody tr th {\n",
       "        vertical-align: top;\n",
       "    }\n",
       "\n",
       "    .dataframe thead th {\n",
       "        text-align: right;\n",
       "    }\n",
       "</style>\n",
       "<table border=\"1\" class=\"dataframe\">\n",
       "  <thead>\n",
       "    <tr style=\"text-align: right;\">\n",
       "      <th></th>\n",
       "      <th>date_time</th>\n",
       "      <th>year</th>\n",
       "      <th>month</th>\n",
       "      <th>city</th>\n",
       "      <th>state</th>\n",
       "      <th>shape</th>\n",
       "      <th>duration</th>\n",
       "      <th>posted</th>\n",
       "      <th>url</th>\n",
       "    </tr>\n",
       "  </thead>\n",
       "  <tbody>\n",
       "    <tr>\n",
       "      <th>113597</th>\n",
       "      <td>6/25/69 00:00</td>\n",
       "      <td>1969</td>\n",
       "      <td>6</td>\n",
       "      <td>Moline</td>\n",
       "      <td>IL</td>\n",
       "      <td>Unknown</td>\n",
       "      <td>15 minutes</td>\n",
       "      <td>10/25/11</td>\n",
       "      <td>http://www.nuforc.org/webreports/084/S84657.html</td>\n",
       "    </tr>\n",
       "    <tr>\n",
       "      <th>59027</th>\n",
       "      <td>2/2/09 18:35</td>\n",
       "      <td>2009</td>\n",
       "      <td>2</td>\n",
       "      <td>Duarte</td>\n",
       "      <td>CA</td>\n",
       "      <td>Light</td>\n",
       "      <td>1 minute</td>\n",
       "      <td>3/19/09</td>\n",
       "      <td>http://www.nuforc.org/webreports/068/S68411.html</td>\n",
       "    </tr>\n",
       "    <tr>\n",
       "      <th>81133</th>\n",
       "      <td>8/23/04 23:00</td>\n",
       "      <td>2004</td>\n",
       "      <td>8</td>\n",
       "      <td>Caransebes (Romania)</td>\n",
       "      <td>NaN</td>\n",
       "      <td>Fireball</td>\n",
       "      <td>60 sec</td>\n",
       "      <td>9/9/04</td>\n",
       "      <td>http://www.nuforc.org/webreports/039/S39107.html</td>\n",
       "    </tr>\n",
       "    <tr>\n",
       "      <th>67325</th>\n",
       "      <td>6/7/07 00:00</td>\n",
       "      <td>2007</td>\n",
       "      <td>6</td>\n",
       "      <td>Locust Grove</td>\n",
       "      <td>GA</td>\n",
       "      <td>Cigar</td>\n",
       "      <td>2-3 minutes</td>\n",
       "      <td>11/21/10</td>\n",
       "      <td>http://www.nuforc.org/webreports/078/S78189.html</td>\n",
       "    </tr>\n",
       "    <tr>\n",
       "      <th>63757</th>\n",
       "      <td>3/11/08 10:00</td>\n",
       "      <td>2008</td>\n",
       "      <td>3</td>\n",
       "      <td>Upper Saddle River (Woodcliff Lake)</td>\n",
       "      <td>NJ</td>\n",
       "      <td>Fireball</td>\n",
       "      <td>4 SECONDS</td>\n",
       "      <td>3/31/08</td>\n",
       "      <td>http://www.nuforc.org/webreports/062/S62180.html</td>\n",
       "    </tr>\n",
       "  </tbody>\n",
       "</table>\n",
       "</div>"
      ],
      "text/plain": [
       "            date_time  year  month                                 city state  \\\n",
       "113597  6/25/69 00:00  1969      6                               Moline    IL   \n",
       "59027    2/2/09 18:35  2009      2                               Duarte    CA   \n",
       "81133   8/23/04 23:00  2004      8                 Caransebes (Romania)   NaN   \n",
       "67325    6/7/07 00:00  2007      6                         Locust Grove    GA   \n",
       "63757   3/11/08 10:00  2008      3  Upper Saddle River (Woodcliff Lake)    NJ   \n",
       "\n",
       "           shape     duration    posted  \\\n",
       "113597   Unknown   15 minutes  10/25/11   \n",
       "59027      Light     1 minute   3/19/09   \n",
       "81133   Fireball       60 sec    9/9/04   \n",
       "67325      Cigar  2-3 minutes  11/21/10   \n",
       "63757   Fireball    4 SECONDS   3/31/08   \n",
       "\n",
       "                                                     url  \n",
       "113597  http://www.nuforc.org/webreports/084/S84657.html  \n",
       "59027   http://www.nuforc.org/webreports/068/S68411.html  \n",
       "81133   http://www.nuforc.org/webreports/039/S39107.html  \n",
       "67325   http://www.nuforc.org/webreports/078/S78189.html  \n",
       "63757   http://www.nuforc.org/webreports/062/S62180.html  "
      ]
     },
     "execution_count": 8,
     "metadata": {},
     "output_type": "execute_result"
    }
   ],
   "source": [
    "ufo_df.sample(5)"
   ]
  },
  {
   "cell_type": "markdown",
   "metadata": {},
   "source": [
    "Notice that pandas has sensible defaults for displaying large datasets. Here, not all nine rows would fit on the screen and are thus truncated.\n",
    "\n",
    "What if you want to look at a specific range ('slice') in your DataFrame?"
   ]
  },
  {
   "cell_type": "code",
   "execution_count": 9,
   "metadata": {},
   "outputs": [
    {
     "data": {
      "text/html": [
       "<div>\n",
       "<style scoped>\n",
       "    .dataframe tbody tr th:only-of-type {\n",
       "        vertical-align: middle;\n",
       "    }\n",
       "\n",
       "    .dataframe tbody tr th {\n",
       "        vertical-align: top;\n",
       "    }\n",
       "\n",
       "    .dataframe thead th {\n",
       "        text-align: right;\n",
       "    }\n",
       "</style>\n",
       "<table border=\"1\" class=\"dataframe\">\n",
       "  <thead>\n",
       "    <tr style=\"text-align: right;\">\n",
       "      <th></th>\n",
       "      <th>duration</th>\n",
       "      <th>posted</th>\n",
       "      <th>url</th>\n",
       "    </tr>\n",
       "  </thead>\n",
       "  <tbody>\n",
       "    <tr>\n",
       "      <th>0</th>\n",
       "      <td>1 hour</td>\n",
       "      <td>8/31/18</td>\n",
       "      <td>http://www.nuforc.org/webreports/142/S142925.html</td>\n",
       "    </tr>\n",
       "    <tr>\n",
       "      <th>1</th>\n",
       "      <td>5 seconds</td>\n",
       "      <td>8/31/18</td>\n",
       "      <td>http://www.nuforc.org/webreports/142/S142924.html</td>\n",
       "    </tr>\n",
       "    <tr>\n",
       "      <th>2</th>\n",
       "      <td>15 minutes</td>\n",
       "      <td>8/31/18</td>\n",
       "      <td>http://www.nuforc.org/webreports/142/S142929.html</td>\n",
       "    </tr>\n",
       "    <tr>\n",
       "      <th>3</th>\n",
       "      <td>3 minutes</td>\n",
       "      <td>8/31/18</td>\n",
       "      <td>http://www.nuforc.org/webreports/142/S142928.html</td>\n",
       "    </tr>\n",
       "    <tr>\n",
       "      <th>4</th>\n",
       "      <td>5 seconds</td>\n",
       "      <td>8/31/18</td>\n",
       "      <td>http://www.nuforc.org/webreports/142/S142926.html</td>\n",
       "    </tr>\n",
       "  </tbody>\n",
       "</table>\n",
       "</div>"
      ],
      "text/plain": [
       "     duration   posted                                                url\n",
       "0      1 hour  8/31/18  http://www.nuforc.org/webreports/142/S142925.html\n",
       "1   5 seconds  8/31/18  http://www.nuforc.org/webreports/142/S142924.html\n",
       "2  15 minutes  8/31/18  http://www.nuforc.org/webreports/142/S142929.html\n",
       "3   3 minutes  8/31/18  http://www.nuforc.org/webreports/142/S142928.html\n",
       "4   5 seconds  8/31/18  http://www.nuforc.org/webreports/142/S142926.html"
      ]
     },
     "execution_count": 9,
     "metadata": {},
     "output_type": "execute_result"
    }
   ],
   "source": [
    "ufo_df.loc[0:4, 'duration':'url']"
   ]
  },
  {
   "cell_type": "markdown",
   "metadata": {},
   "source": [
    "**NOTE:** If you look in the help documentation ( `help(pd.DataFrame.loc)` ): \"note that contrary to usual python slices, **both** the start and the stop are included!\"\n",
    "\n",
    "If you prefer to use numbers instead of labels, use `.iloc[]` instead:"
   ]
  },
  {
   "cell_type": "code",
   "execution_count": 10,
   "metadata": {},
   "outputs": [
    {
     "data": {
      "text/html": [
       "<div>\n",
       "<style scoped>\n",
       "    .dataframe tbody tr th:only-of-type {\n",
       "        vertical-align: middle;\n",
       "    }\n",
       "\n",
       "    .dataframe tbody tr th {\n",
       "        vertical-align: top;\n",
       "    }\n",
       "\n",
       "    .dataframe thead th {\n",
       "        text-align: right;\n",
       "    }\n",
       "</style>\n",
       "<table border=\"1\" class=\"dataframe\">\n",
       "  <thead>\n",
       "    <tr style=\"text-align: right;\">\n",
       "      <th></th>\n",
       "      <th>duration</th>\n",
       "      <th>posted</th>\n",
       "      <th>url</th>\n",
       "    </tr>\n",
       "  </thead>\n",
       "  <tbody>\n",
       "    <tr>\n",
       "      <th>0</th>\n",
       "      <td>1 hour</td>\n",
       "      <td>8/31/18</td>\n",
       "      <td>http://www.nuforc.org/webreports/142/S142925.html</td>\n",
       "    </tr>\n",
       "    <tr>\n",
       "      <th>1</th>\n",
       "      <td>5 seconds</td>\n",
       "      <td>8/31/18</td>\n",
       "      <td>http://www.nuforc.org/webreports/142/S142924.html</td>\n",
       "    </tr>\n",
       "    <tr>\n",
       "      <th>2</th>\n",
       "      <td>15 minutes</td>\n",
       "      <td>8/31/18</td>\n",
       "      <td>http://www.nuforc.org/webreports/142/S142929.html</td>\n",
       "    </tr>\n",
       "    <tr>\n",
       "      <th>3</th>\n",
       "      <td>3 minutes</td>\n",
       "      <td>8/31/18</td>\n",
       "      <td>http://www.nuforc.org/webreports/142/S142928.html</td>\n",
       "    </tr>\n",
       "    <tr>\n",
       "      <th>4</th>\n",
       "      <td>5 seconds</td>\n",
       "      <td>8/31/18</td>\n",
       "      <td>http://www.nuforc.org/webreports/142/S142926.html</td>\n",
       "    </tr>\n",
       "  </tbody>\n",
       "</table>\n",
       "</div>"
      ],
      "text/plain": [
       "     duration   posted                                                url\n",
       "0      1 hour  8/31/18  http://www.nuforc.org/webreports/142/S142925.html\n",
       "1   5 seconds  8/31/18  http://www.nuforc.org/webreports/142/S142924.html\n",
       "2  15 minutes  8/31/18  http://www.nuforc.org/webreports/142/S142929.html\n",
       "3   3 minutes  8/31/18  http://www.nuforc.org/webreports/142/S142928.html\n",
       "4   5 seconds  8/31/18  http://www.nuforc.org/webreports/142/S142926.html"
      ]
     },
     "execution_count": 10,
     "metadata": {},
     "output_type": "execute_result"
    }
   ],
   "source": [
    "ufo_df.iloc[0:5, 6:9]"
   ]
  },
  {
   "cell_type": "markdown",
   "metadata": {},
   "source": [
    "Confusingly, `.iloc[]` slices the conventional way. Also note, for both slicing methods, square brackets [] are used instead of parentheses ()."
   ]
  },
  {
   "cell_type": "markdown",
   "metadata": {},
   "source": [
    "## Exploratory Data Analysis\n",
    "The following are very typical steps for Exploratory Data Analysis (EDA) of a dataset once the data are imported.\n",
    "\n",
    "What are the dimensions of the DataFrame?"
   ]
  },
  {
   "cell_type": "code",
   "execution_count": 13,
   "metadata": {},
   "outputs": [
    {
     "data": {
      "text/plain": [
       "(115877, 9)"
      ]
     },
     "execution_count": 13,
     "metadata": {},
     "output_type": "execute_result"
    }
   ],
   "source": [
    "ufo_df.shape "
   ]
  },
  {
   "cell_type": "markdown",
   "metadata": {},
   "source": [
    "_i.e._ around 116,000 rows and 9 columns\n",
    "\n",
    "We could just as easily found the number of rows by using our base Python `len()` function:"
   ]
  },
  {
   "cell_type": "code",
   "execution_count": 14,
   "metadata": {},
   "outputs": [
    {
     "data": {
      "text/plain": [
       "115877"
      ]
     },
     "execution_count": 14,
     "metadata": {},
     "output_type": "execute_result"
    }
   ],
   "source": [
    "len(ufo_df)"
   ]
  },
  {
   "cell_type": "markdown",
   "metadata": {},
   "source": [
    "What sort of data is each column?"
   ]
  },
  {
   "cell_type": "code",
   "execution_count": 15,
   "metadata": {},
   "outputs": [
    {
     "data": {
      "text/plain": [
       "date_time    object\n",
       "year          int64\n",
       "month         int64\n",
       "city         object\n",
       "state        object\n",
       "shape        object\n",
       "duration     object\n",
       "posted       object\n",
       "url          object\n",
       "dtype: object"
      ]
     },
     "execution_count": 15,
     "metadata": {},
     "output_type": "execute_result"
    }
   ],
   "source": [
    "ufo_df.dtypes"
   ]
  },
  {
   "cell_type": "markdown",
   "metadata": {},
   "source": [
    "Confusingly, 'object' here refers to strings as well as other possible objects.\n",
    "\n",
    "How do the numeric data vary (range, median, mean)?"
   ]
  },
  {
   "cell_type": "code",
   "execution_count": 16,
   "metadata": {},
   "outputs": [
    {
     "data": {
      "text/html": [
       "<div>\n",
       "<style scoped>\n",
       "    .dataframe tbody tr th:only-of-type {\n",
       "        vertical-align: middle;\n",
       "    }\n",
       "\n",
       "    .dataframe tbody tr th {\n",
       "        vertical-align: top;\n",
       "    }\n",
       "\n",
       "    .dataframe thead th {\n",
       "        text-align: right;\n",
       "    }\n",
       "</style>\n",
       "<table border=\"1\" class=\"dataframe\">\n",
       "  <thead>\n",
       "    <tr style=\"text-align: right;\">\n",
       "      <th></th>\n",
       "      <th>year</th>\n",
       "      <th>month</th>\n",
       "    </tr>\n",
       "  </thead>\n",
       "  <tbody>\n",
       "    <tr>\n",
       "      <th>count</th>\n",
       "      <td>115877.000000</td>\n",
       "      <td>115877.000000</td>\n",
       "    </tr>\n",
       "    <tr>\n",
       "      <th>mean</th>\n",
       "      <td>2006.127687</td>\n",
       "      <td>6.850945</td>\n",
       "    </tr>\n",
       "    <tr>\n",
       "      <th>std</th>\n",
       "      <td>11.481973</td>\n",
       "      <td>3.216381</td>\n",
       "    </tr>\n",
       "    <tr>\n",
       "      <th>min</th>\n",
       "      <td>1400.000000</td>\n",
       "      <td>1.000000</td>\n",
       "    </tr>\n",
       "    <tr>\n",
       "      <th>25%</th>\n",
       "      <td>2003.000000</td>\n",
       "      <td>4.000000</td>\n",
       "    </tr>\n",
       "    <tr>\n",
       "      <th>50%</th>\n",
       "      <td>2009.000000</td>\n",
       "      <td>7.000000</td>\n",
       "    </tr>\n",
       "    <tr>\n",
       "      <th>75%</th>\n",
       "      <td>2013.000000</td>\n",
       "      <td>9.000000</td>\n",
       "    </tr>\n",
       "    <tr>\n",
       "      <th>max</th>\n",
       "      <td>2018.000000</td>\n",
       "      <td>12.000000</td>\n",
       "    </tr>\n",
       "  </tbody>\n",
       "</table>\n",
       "</div>"
      ],
      "text/plain": [
       "                year          month\n",
       "count  115877.000000  115877.000000\n",
       "mean     2006.127687       6.850945\n",
       "std        11.481973       3.216381\n",
       "min      1400.000000       1.000000\n",
       "25%      2003.000000       4.000000\n",
       "50%      2009.000000       7.000000\n",
       "75%      2013.000000       9.000000\n",
       "max      2018.000000      12.000000"
      ]
     },
     "execution_count": 16,
     "metadata": {},
     "output_type": "execute_result"
    }
   ],
   "source": [
    "ufo_df.describe()"
   ]
  },
  {
   "cell_type": "markdown",
   "metadata": {},
   "source": [
    "Half of all observations in this dataset (up to August 2018) were from 2009 until now. We'll investigate this later.\n",
    "\n",
    "How much data is missing?"
   ]
  },
  {
   "cell_type": "code",
   "execution_count": 18,
   "metadata": {},
   "outputs": [
    {
     "data": {
      "text/plain": [
       "date_time       0\n",
       "year            0\n",
       "month           0\n",
       "city          227\n",
       "state        8438\n",
       "shape        3686\n",
       "duration     3896\n",
       "posted          0\n",
       "url             0\n",
       "dtype: int64"
      ]
     },
     "execution_count": 18,
     "metadata": {},
     "output_type": "execute_result"
    }
   ],
   "source": [
    "ufo_df.isnull().sum() "
   ]
  },
  {
   "cell_type": "markdown",
   "metadata": {},
   "source": [
    "Note the chaining of methods. This powerful concept will be used throughout the remainder of this.\n",
    "\n",
    "So none of the date-like entries are missing, as too for the URLs. The duration and shape may not\n",
    "be well defined or known, so the ~4,000 missing for each is understandable, at\n",
    "3% of the observations. The state is not defined\n",
    "for most non-US entries, and there are plenty of those. In this rare case, there is\n",
    "no need for imputation (A fancy, ten-dollar, word for 'figuring out how to handle missing\n",
    "data'; it has the same Latin roots as for input, and is similar to that\n",
    "for amputation (which is roughly 'to clean by cutting back'))!"
   ]
  },
  {
   "cell_type": "markdown",
   "metadata": {},
   "source": [
    "## Filtering\n",
    "Do we need to filter by year? The dates prior to 1900 are likely to be based on heavy, retrospective, speculation, or worse: errors due to data entry!\n",
    "\n",
    "We can easily filter the 'year' field:"
   ]
  },
  {
   "cell_type": "code",
   "execution_count": 19,
   "metadata": {},
   "outputs": [
    {
     "data": {
      "text/plain": [
       "date_time    24\n",
       "year         24\n",
       "month        24\n",
       "city         24\n",
       "state        16\n",
       "shape        17\n",
       "duration     17\n",
       "posted       24\n",
       "url          24\n",
       "dtype: int64"
      ]
     },
     "execution_count": 19,
     "metadata": {},
     "output_type": "execute_result"
    }
   ],
   "source": [
    "ufo_df[ufo_df['year'] < 1900].count()"
   ]
  },
  {
   "cell_type": "markdown",
   "metadata": {},
   "source": [
    "There is also the `.query()` method to acheive a similar effect"
   ]
  },
  {
   "cell_type": "code",
   "execution_count": 21,
   "metadata": {},
   "outputs": [
    {
     "data": {
      "text/plain": [
       "date_time    24\n",
       "year         24\n",
       "month        24\n",
       "city         24\n",
       "state        16\n",
       "shape        17\n",
       "duration     17\n",
       "posted       24\n",
       "url          24\n",
       "dtype: int64"
      ]
     },
     "execution_count": 21,
     "metadata": {},
     "output_type": "execute_result"
    }
   ],
   "source": [
    "ufo_df.query('year<1900').count()"
   ]
  },
  {
   "cell_type": "markdown",
   "metadata": {},
   "source": [
    "There are only 24 such observations.\n",
    "\n",
    "Upon manually checking, only three of these entries are mis-entered!\n",
    "For example, one entry, http://www.nuforc.org/webreports/133/S133812.html, was dated as the year 1721, when it was obviously a replication of the time (21:30) with the yy year format (17, for 2017). This is unexpectedly nice data!\n",
    "\n",
    "Let's remove the bad dates. We can create a tiny DataFrame:"
   ]
  },
  {
   "cell_type": "code",
   "execution_count": 22,
   "metadata": {},
   "outputs": [],
   "source": [
    "bad_dates = ufo_df[ufo_df['year'].isin([1617, 1615, 1721])]"
   ]
  },
  {
   "cell_type": "markdown",
   "metadata": {},
   "source": [
    "These have indices [115875,115872,115871]:"
   ]
  },
  {
   "cell_type": "code",
   "execution_count": 23,
   "metadata": {},
   "outputs": [
    {
     "data": {
      "text/plain": [
       "Int64Index([115871, 115872, 115875], dtype='int64')"
      ]
     },
     "execution_count": 23,
     "metadata": {},
     "output_type": "execute_result"
    }
   ],
   "source": [
    "bad_dates.index"
   ]
  },
  {
   "cell_type": "markdown",
   "metadata": {},
   "source": [
    "You can drop these manually:"
   ]
  },
  {
   "cell_type": "code",
   "execution_count": 24,
   "metadata": {},
   "outputs": [],
   "source": [
    "ufo_df = ufo_df.drop([115875, 115872, 115871])"
   ]
  },
  {
   "cell_type": "markdown",
   "metadata": {},
   "source": [
    "...or you could have indexed from the bad_dates DataFrame (note the `.drop()` method has a convenient 'inplace' option):"
   ]
  },
  {
   "cell_type": "code",
   "execution_count": null,
   "metadata": {},
   "outputs": [],
   "source": [
    "ufo_df.drop(index=bad_dates.index, inplace=True)"
   ]
  },
  {
   "cell_type": "markdown",
   "metadata": {},
   "source": [
    "Whenever you perform data wrangling and cleaning, it pays to check you performed the operation correctly."
   ]
  },
  {
   "cell_type": "code",
   "execution_count": 25,
   "metadata": {},
   "outputs": [
    {
     "data": {
      "text/plain": [
       "(115874, 9)"
      ]
     },
     "execution_count": 25,
     "metadata": {},
     "output_type": "execute_result"
    }
   ],
   "source": [
    "ufo_df.shape"
   ]
  },
  {
   "cell_type": "code",
   "execution_count": null,
   "metadata": {},
   "outputs": [],
   "source": [
    "OK, good. Three fewer rows, correct number of columns."
   ]
  },
  {
   "cell_type": "markdown",
   "metadata": {},
   "source": [
    "## Dates and TimeSeries\n",
    "As with most analysis frameworks, dates are a special class unto themselves.\n",
    "This is because everyone has a different way of writing them (for example, a European may write 5 March 1953 as 5/3/1953, while an American might write\n",
    "5/3/1953), and there are so many things you want to do with them. Here, we explicitly force the 'date_time' column to be a DateTime object:"
   ]
  },
  {
   "cell_type": "code",
   "execution_count": 26,
   "metadata": {},
   "outputs": [],
   "source": [
    "ufo_df['date_time'] = pd.to_datetime(ufo_df['date_time'])"
   ]
  },
  {
   "cell_type": "markdown",
   "metadata": {},
   "source": [
    "Check the output format:"
   ]
  },
  {
   "cell_type": "code",
   "execution_count": 27,
   "metadata": {},
   "outputs": [
    {
     "data": {
      "text/plain": [
       "date_time    datetime64[ns]\n",
       "year                  int64\n",
       "month                 int64\n",
       "city                 object\n",
       "dtype: object"
      ]
     },
     "execution_count": 27,
     "metadata": {},
     "output_type": "execute_result"
    }
   ],
   "source": [
    "ufo_df.dtypes[0:4]"
   ]
  },
  {
   "cell_type": "markdown",
   "metadata": {},
   "source": [
    "**NOTE:** This makes use of the default format specifications, including `dayfirst=False` and `yearfirst=False`. This is because the database follows the American convention.\n",
    "\n",
    "If we already expect a date format upon import, there is an option to specify a date-time column, so we could have done this initially, _e.g._:"
   ]
  },
  {
   "cell_type": "code",
   "execution_count": null,
   "metadata": {},
   "outputs": [],
   "source": [
    "ufo_df = pd.read_csv(\"national_ufo_reports.csv\", parse_dates=[0], keep_date_col=True, infer_datetime_format=True)"
   ]
  },
  {
   "cell_type": "markdown",
   "metadata": {},
   "source": [
    "However, this particular dataset is tricky!\n",
    "The form to input an observation date only allows a two-digit year (yy). So it can't unambiguously infer what century an event happened! Thankfully the URL itself encodes the full four-digit year (yyyy) as well as the month (mm).\n",
    "The dataset we use has already parsed the 'proper' year and month from this metadata already, because we had anticipated this very issue (see the description on the Spider used to obtain this data from the NUFORC website).\n",
    "\n",
    "We could construct an accurate event date field by assuming the correct day is entered in the 'event_time' field. Then, extract only the 'day' information as\n",
    "another column:"
   ]
  },
  {
   "cell_type": "code",
   "execution_count": 28,
   "metadata": {},
   "outputs": [],
   "source": [
    "ufo_df['day'] = [x.day for x in ufo_df['date_time']]"
   ]
  },
  {
   "cell_type": "markdown",
   "metadata": {},
   "source": [
    "We can then concatenate the year, month and day Series as a single datetime Series...\n",
    "\n",
    "...with the following caveat:\n",
    "From https://pandas-docs.github.io/pandas-docs-travis/timeseries.html:\n",
    "\"Since pandas represents timestamps in nanosecond resolution, the time span that can be represented using a 64-bit integer is limited to approximately 584 years\""
   ]
  },
  {
   "cell_type": "code",
   "execution_count": 29,
   "metadata": {},
   "outputs": [
    {
     "data": {
      "text/plain": [
       "Timestamp('1677-09-21 00:12:43.145225')"
      ]
     },
     "execution_count": 29,
     "metadata": {},
     "output_type": "execute_result"
    }
   ],
   "source": [
    "pd.Timestamp.min"
   ]
  },
  {
   "cell_type": "markdown",
   "metadata": {},
   "source": [
    "So we'll have to filter for dates after the year 1677 before we convert:"
   ]
  },
  {
   "cell_type": "code",
   "execution_count": 30,
   "metadata": {},
   "outputs": [],
   "source": [
    "ufo_df['event_time'] = pd.to_datetime(ufo_df[ufo_df['year'] > 1678].loc[:,['year','month','day']])"
   ]
  },
  {
   "cell_type": "code",
   "execution_count": 31,
   "metadata": {},
   "outputs": [
    {
     "data": {
      "text/plain": [
       "dtype('<M8[ns]')"
      ]
     },
     "execution_count": 31,
     "metadata": {},
     "output_type": "execute_result"
    }
   ],
   "source": [
    "ufo_df['event_time'].dtype"
   ]
  },
  {
   "cell_type": "code",
   "execution_count": 32,
   "metadata": {},
   "outputs": [
    {
     "data": {
      "text/plain": [
       "Timestamp('1762-12-11 00:00:00')"
      ]
     },
     "execution_count": 32,
     "metadata": {},
     "output_type": "execute_result"
    }
   ],
   "source": [
    "ufo_df['event_time'].min()"
   ]
  },
  {
   "cell_type": "code",
   "execution_count": 33,
   "metadata": {},
   "outputs": [
    {
     "data": {
      "text/plain": [
       "Timestamp('2018-08-30 00:00:00')"
      ]
     },
     "execution_count": 33,
     "metadata": {},
     "output_type": "execute_result"
    }
   ],
   "source": [
    "ufo_df['event_time'].max()"
   ]
  },
  {
   "cell_type": "markdown",
   "metadata": {},
   "source": [
    "## Graphical analysis.\n",
    "Pandas has support for a wide range of graphical analysis. Effectively there are a number of wrappers to the matplotlib Python library.\n",
    "\n",
    "Let's analyze the univariate distribution of observations by month:"
   ]
  },
  {
   "cell_type": "code",
   "execution_count": 36,
   "metadata": {},
   "outputs": [
    {
     "data": {
      "text/plain": [
       "<matplotlib.axes._subplots.AxesSubplot at 0x7fcb21343240>"
      ]
     },
     "execution_count": 36,
     "metadata": {},
     "output_type": "execute_result"
    },
    {
     "data": {
      "image/png": "[encoded data removed]",
      "text/plain": [
       "<Figure size 432x288 with 1 Axes>"
      ]
     },
     "metadata": {},
     "output_type": "display_data"
    }
   ],
   "source": [
    "ufo_df['month'].hist(bins=12)"
   ]
  },
  {
   "cell_type": "markdown",
   "metadata": {},
   "source": [
    "Recall that the plotting functions are wrappers for matplotlib, so you can add attributes to the figures accordingly:"
   ]
  },
  {
   "cell_type": "code",
   "execution_count": 38,
   "metadata": {},
   "outputs": [
    {
     "data": {
      "text/plain": [
       "Text(0.5,1,'Distribution of UFO reports by month')"
      ]
     },
     "execution_count": 38,
     "metadata": {},
     "output_type": "execute_result"
    },
    {
     "data": {
      "image/png": "[encoded data removed]",
      "text/plain": [
       "<Figure size 432x288 with 1 Axes>"
      ]
     },
     "metadata": {},
     "output_type": "display_data"
    }
   ],
   "source": [
    "import matplotlib.pyplot as plt\n",
    "\n",
    "ufo_df['month'].hist(bins=12)\n",
    "\n",
    "plt.xlabel(\"Month of report\")\n",
    "plt.ylabel(\"Number of reports\")\n",
    "plt.title(\"Distribution of UFO reports by month\", fontname=\"Alien Invasion\", fontsize=16)\n",
    "\n",
    "# If you want to save the figure:\n",
    "#plt.savefig(\"UFO_observations_by_month.png\")"
   ]
  },
  {
   "cell_type": "markdown",
   "metadata": {},
   "source": [
    "Or you could examine it interactively with:"
   ]
  },
  {
   "cell_type": "code",
   "execution_count": null,
   "metadata": {},
   "outputs": [],
   "source": [
    "plt.show()"
   ]
  },
  {
   "cell_type": "markdown",
   "metadata": {},
   "source": [
    "but note that the object is 'used' up by saving or displaying."
   ]
  },
  {
   "cell_type": "markdown",
   "metadata": {},
   "source": [
    "It appears that summer (in the Northern Hemisphere) is the time to spot UFOs.\n",
    "Who would have thought?"
   ]
  },
  {
   "cell_type": "markdown",
   "metadata": {},
   "source": [
    "## Effect of smart-phones\n",
    "Does the introduction of so-called smart phones (I think mine is a 'dumb phone') have anything to do with the rate of sightings?\n",
    "\n",
    "We will have to aggregate over year and count the number of occurences. We do this aggregation with the `.groupby()` operation."
   ]
  },
  {
   "cell_type": "code",
   "execution_count": 39,
   "metadata": {},
   "outputs": [
    {
     "data": {
      "text/plain": [
       "Text(0.5,1,'Increase in UFO reports over time')"
      ]
     },
     "execution_count": 39,
     "metadata": {},
     "output_type": "execute_result"
    },
    {
     "data": {
      "image/png": "[encoded data removed]",
      "text/plain": [
       "<Figure size 432x288 with 1 Axes>"
      ]
     },
     "metadata": {},
     "output_type": "display_data"
    }
   ],
   "source": [
    "ufo_df.groupby('year')['posted'].count().reset_index().plot(x='year', y='posted', xlim=[1920.0, 2020.0], legend=False)\n",
    "plt.xlabel(\"Year of report\")\n",
    "plt.ylabel(\"Number of reports\")\n",
    "plt.title(\"Increase in UFO reports over time\", fontname=\"Covert Ops\", fontsize=16)"
   ]
  },
  {
   "cell_type": "markdown",
   "metadata": {},
   "source": [
    "The smart phone was introduced around the middle of 2007 (more or less)"
   ]
  },
  {
   "cell_type": "code",
   "execution_count": 42,
   "metadata": {},
   "outputs": [
    {
     "data": {
      "text/plain": [
       "Text(0.5,1,'Effect of technology on reports by month')"
      ]
     },
     "execution_count": 42,
     "metadata": {},
     "output_type": "execute_result"
    },
    {
     "data": {
      "image/png": "[encoded data removed]",
      "text/plain": [
       "<Figure size 432x288 with 1 Axes>"
      ]
     },
     "metadata": {},
     "output_type": "display_data"
    }
   ],
   "source": [
    "ufo_df['smartphone_epoch'] = ['pre-smartphone' if x < 2007 else 'post-smartphone' for x in ufo_df['year']]\n",
    "\n",
    "ufo_df[ufo_df['smartphone_epoch'] == 'post-smartphone']['month'].plot.hist(bins=12, color='blue', alpha=0.5, label=\"post-smartphone\", legend=True)\n",
    "ufo_df[ufo_df['smartphone_epoch'] == 'pre-smartphone']['month'].plot.hist(bins=12, color='red', alpha=0.5, label=\"pre-smartphone\", legend=True)\n",
    "\n",
    "plt.xlabel(\"Month of report\")\n",
    "plt.ylabel(\"Number of reports\")\n",
    "plt.title(\"Effect of technology on reports by month\", fontname=\"Alien Invasion\", fontsize=16)"
   ]
  },
  {
   "cell_type": "markdown",
   "metadata": {},
   "source": [
    "Because the plot is really a matplotlib object, you could also have obtained\n",
    "the legend by calling it directly, _i.e._: `plt.legend()`"
   ]
  },
  {
   "cell_type": "markdown",
   "metadata": {},
   "source": [
    "Have a look at the univariate statistics of the UFO shape"
   ]
  },
  {
   "cell_type": "code",
   "execution_count": 43,
   "metadata": {},
   "outputs": [
    {
     "data": {
      "text/plain": [
       "Text(0.5,1,'Reported UFO shape')"
      ]
     },
     "execution_count": 43,
     "metadata": {},
     "output_type": "execute_result"
    },
    {
     "data": {
      "image/png": "[encoded data removed]",
      "text/plain": [
       "<Figure size 432x288 with 1 Axes>"
      ]
     },
     "metadata": {},
     "output_type": "display_data"
    }
   ],
   "source": [
    "ufo_df.groupby('shape')['posted'].count().sort_values(ascending=False).head(20).plot.bar()\n",
    "plt.xlabel(\"UFO shape\")\n",
    "plt.ylabel(\"Number of observations\")\n",
    "plt.title(\"Reported UFO shape\", fontname=\"Covert Ops\", fontsize=16)"
   ]
  },
  {
   "cell_type": "markdown",
   "metadata": {},
   "source": [
    "So by far the majority of shapes were 'lights'."
   ]
  },
  {
   "cell_type": "markdown",
   "metadata": {},
   "source": [
    "## What cities saw the most UFOs?\n",
    "\n",
    "### Further data cleaning\n",
    "Often in the EDA phase, it becomes clear that further cleaning is required. This\n",
    "is the case here!\n",
    "\n",
    "Recall we noted that there were 227 cities missing. This hasn't been a problem until now, because we didn't care about the city names. There are quite a few tasks required to clean up the city names. \n",
    "\n",
    "For example, there are many entries that attempt to clarify or condition with commentary in parentheses:"
   ]
  },
  {
   "cell_type": "code",
   "execution_count": 65,
   "metadata": {},
   "outputs": [
    {
     "name": "stderr",
     "output_type": "stream",
     "text": [
      "/home/ra/anaconda3/lib/python3.6/site-packages/ipykernel_launcher.py:1: UserWarning: Boolean Series key will be reindexed to match DataFrame index.\n",
      "  \"\"\"Entry point for launching an IPython kernel.\n"
     ]
    },
    {
     "data": {
      "text/html": [
       "<div>\n",
       "<style scoped>\n",
       "    .dataframe tbody tr th:only-of-type {\n",
       "        vertical-align: middle;\n",
       "    }\n",
       "\n",
       "    .dataframe tbody tr th {\n",
       "        vertical-align: top;\n",
       "    }\n",
       "\n",
       "    .dataframe thead th {\n",
       "        text-align: right;\n",
       "    }\n",
       "</style>\n",
       "<table border=\"1\" class=\"dataframe\">\n",
       "  <thead>\n",
       "    <tr style=\"text-align: right;\">\n",
       "      <th></th>\n",
       "      <th>date_time</th>\n",
       "      <th>year</th>\n",
       "      <th>month</th>\n",
       "      <th>city</th>\n",
       "    </tr>\n",
       "  </thead>\n",
       "  <tbody>\n",
       "    <tr>\n",
       "      <th>84925</th>\n",
       "      <td>2003-12-03 16:45:00</td>\n",
       "      <td>2003</td>\n",
       "      <td>12</td>\n",
       "      <td>Vernon (Canada)</td>\n",
       "    </tr>\n",
       "    <tr>\n",
       "      <th>107704</th>\n",
       "      <td>1991-05-05 20:30:00</td>\n",
       "      <td>1991</td>\n",
       "      <td>5</td>\n",
       "      <td>Grants (southeast of)</td>\n",
       "    </tr>\n",
       "    <tr>\n",
       "      <th>75830</th>\n",
       "      <td>2005-07-27 08:00:00</td>\n",
       "      <td>2005</td>\n",
       "      <td>7</td>\n",
       "      <td>Columbia (near)</td>\n",
       "    </tr>\n",
       "    <tr>\n",
       "      <th>92873</th>\n",
       "      <td>2001-04-24 08:00:00</td>\n",
       "      <td>2001</td>\n",
       "      <td>4</td>\n",
       "      <td>London (Ontario) (Canada)</td>\n",
       "    </tr>\n",
       "    <tr>\n",
       "      <th>58222</th>\n",
       "      <td>2009-04-10 00:20:00</td>\n",
       "      <td>2009</td>\n",
       "      <td>4</td>\n",
       "      <td>Tabusintac (Canada)</td>\n",
       "    </tr>\n",
       "  </tbody>\n",
       "</table>\n",
       "</div>"
      ],
      "text/plain": [
       "                 date_time  year  month                       city\n",
       "84925  2003-12-03 16:45:00  2003     12            Vernon (Canada)\n",
       "107704 1991-05-05 20:30:00  1991      5      Grants (southeast of)\n",
       "75830  2005-07-27 08:00:00  2005      7            Columbia (near)\n",
       "92873  2001-04-24 08:00:00  2001      4  London (Ontario) (Canada)\n",
       "58222  2009-04-10 00:20:00  2009      4        Tabusintac (Canada)"
      ]
     },
     "execution_count": 65,
     "metadata": {},
     "output_type": "execute_result"
    }
   ],
   "source": [
    "ufo_df.dropna()[ufo_df['city'].dropna().str.contains(\"\\)$\")].loc[:, 'date_time':'city'].sample(5)"
   ]
  },
  {
   "cell_type": "markdown",
   "metadata": {},
   "source": [
    "(Note the use of vectorized string methods and string matching using regular expressions -- the `\\)$` means \"look for a `)` at the very end of the string\")\n",
    "\n",
    "There are"
   ]
  },
  {
   "cell_type": "code",
   "execution_count": 66,
   "metadata": {},
   "outputs": [
    {
     "name": "stderr",
     "output_type": "stream",
     "text": [
      "/home/ra/anaconda3/lib/python3.6/site-packages/ipykernel_launcher.py:1: UserWarning: Boolean Series key will be reindexed to match DataFrame index.\n",
      "  \"\"\"Entry point for launching an IPython kernel.\n"
     ]
    },
    {
     "data": {
      "text/plain": [
       "8673"
      ]
     },
     "execution_count": 66,
     "metadata": {},
     "output_type": "execute_result"
    }
   ],
   "source": [
    "ufo_df.dropna()[ufo_df['city'].dropna().str.contains(\"\\)$\")].count()[0]"
   ]
  },
  {
   "cell_type": "markdown",
   "metadata": {},
   "source": [
    "8,673 of these observations!\n",
    "\n",
    "(Note the double use of .dropna() to prevent data misalignment (this is enforced by pandas, so you'll get an error if data threatens to become misaligned)).\n",
    "\n",
    "Including this mysterious gem:\n",
    "\n",
    "`((town name temporarily deleted)), OK` \n",
    "\n",
    "http://www.nuforc.org/webreports/013/S13977.html\n",
    "\n",
    "Now _this_ is the kind of thing we came here for!\n",
    "\n",
    "First we'll get rid of them no-good city NaNs: `.dropna()` has some helpful parameters to specify rows/columns and in-place filtering."
   ]
  },
  {
   "cell_type": "code",
   "execution_count": 67,
   "metadata": {},
   "outputs": [],
   "source": [
    "ufo_df.dropna(subset=['city'], inplace=True)"
   ]
  },
  {
   "cell_type": "markdown",
   "metadata": {},
   "source": [
    "Perhaps we could split the city strings by \" (\" and retain the 0th element:"
   ]
  },
  {
   "cell_type": "code",
   "execution_count": 68,
   "metadata": {},
   "outputs": [
    {
     "data": {
      "text/plain": [
       "date_time           24\n",
       "year                24\n",
       "month               24\n",
       "city                24\n",
       "state               24\n",
       "shape               24\n",
       "duration            23\n",
       "posted              24\n",
       "url                 24\n",
       "day                 24\n",
       "event_time          24\n",
       "smartphone_epoch    24\n",
       "dtype: int64"
      ]
     },
     "execution_count": 68,
     "metadata": {},
     "output_type": "execute_result"
    }
   ],
   "source": [
    "ufo_df[ufo_df['city'] == 'New York'].count()"
   ]
  },
  {
   "cell_type": "markdown",
   "metadata": {},
   "source": [
    "`ufo_df['city'] = ufo_df['city'].str.split(sep=\" (\")[0]` \n",
    "Unfortunately pandas' `str.split` method does not have the rich support of the base\n",
    "`str.split()` method.\n",
    "\n",
    "While we are at it, there are a few entries that have non-standard capitalization (such as 'AmArillo'), we we enforce this with .title():"
   ]
  },
  {
   "cell_type": "code",
   "execution_count": 69,
   "metadata": {},
   "outputs": [],
   "source": [
    "ufo_df['city'] = [x.title().split(sep=\" (\")[0] for x in ufo_df['city']]"
   ]
  },
  {
   "cell_type": "markdown",
   "metadata": {},
   "source": [
    "There are still 20 cities with parentheses, and at least one with '{'s. I was hoping it wouldn't come to this...\n",
    "\n",
    "...but we're going to have to take a brief dip into the world of regular expressions (regex):"
   ]
  },
  {
   "cell_type": "code",
   "execution_count": 70,
   "metadata": {},
   "outputs": [],
   "source": [
    "import re"
   ]
  },
  {
   "cell_type": "markdown",
   "metadata": {},
   "source": [
    "Remove anything following a [, ( or {:"
   ]
  },
  {
   "cell_type": "code",
   "execution_count": 71,
   "metadata": {},
   "outputs": [],
   "source": [
    "ufo_df['city'] = [re.split(\"\\s*[\\(\\{]\", x.title())[0] for x in ufo_df['city']]"
   ]
  },
  {
   "cell_type": "markdown",
   "metadata": {},
   "source": [
    "Check nothing went awry (as sometimes occurs with regex's!)"
   ]
  },
  {
   "cell_type": "code",
   "execution_count": 72,
   "metadata": {},
   "outputs": [
    {
     "name": "stderr",
     "output_type": "stream",
     "text": [
      "/home/ra/anaconda3/lib/python3.6/site-packages/ipykernel_launcher.py:1: UserWarning: Boolean Series key will be reindexed to match DataFrame index.\n",
      "  \"\"\"Entry point for launching an IPython kernel.\n"
     ]
    },
    {
     "data": {
      "text/html": [
       "<div>\n",
       "<style scoped>\n",
       "    .dataframe tbody tr th:only-of-type {\n",
       "        vertical-align: middle;\n",
       "    }\n",
       "\n",
       "    .dataframe tbody tr th {\n",
       "        vertical-align: top;\n",
       "    }\n",
       "\n",
       "    .dataframe thead th {\n",
       "        text-align: right;\n",
       "    }\n",
       "</style>\n",
       "<table border=\"1\" class=\"dataframe\">\n",
       "  <thead>\n",
       "    <tr style=\"text-align: right;\">\n",
       "      <th></th>\n",
       "      <th>date_time</th>\n",
       "      <th>year</th>\n",
       "      <th>month</th>\n",
       "      <th>city</th>\n",
       "      <th>state</th>\n",
       "      <th>shape</th>\n",
       "      <th>duration</th>\n",
       "      <th>posted</th>\n",
       "      <th>url</th>\n",
       "      <th>day</th>\n",
       "      <th>event_time</th>\n",
       "      <th>smartphone_epoch</th>\n",
       "    </tr>\n",
       "  </thead>\n",
       "  <tbody>\n",
       "    <tr>\n",
       "      <th>25404</th>\n",
       "      <td>2014-04-07 21:05:00</td>\n",
       "      <td>2014</td>\n",
       "      <td>4</td>\n",
       "      <td>Iowa City Hwy 218 North, I-380 North, Cedar Ra...</td>\n",
       "      <td>IA</td>\n",
       "      <td>Other</td>\n",
       "      <td>50 minutes</td>\n",
       "      <td>4/11/14</td>\n",
       "      <td>http://www.nuforc.org/webreports/108/S108434.html</td>\n",
       "      <td>7</td>\n",
       "      <td>2014-04-07</td>\n",
       "      <td>post-smartphone</td>\n",
       "    </tr>\n",
       "  </tbody>\n",
       "</table>\n",
       "</div>"
      ],
      "text/plain": [
       "                date_time  year  month  \\\n",
       "25404 2014-04-07 21:05:00  2014      4   \n",
       "\n",
       "                                                    city state  shape  \\\n",
       "25404  Iowa City Hwy 218 North, I-380 North, Cedar Ra...    IA  Other   \n",
       "\n",
       "         duration   posted                                                url  \\\n",
       "25404  50 minutes  4/11/14  http://www.nuforc.org/webreports/108/S108434.html   \n",
       "\n",
       "       day event_time smartphone_epoch  \n",
       "25404    7 2014-04-07  post-smartphone  "
      ]
     },
     "execution_count": 72,
     "metadata": {},
     "output_type": "execute_result"
    }
   ],
   "source": [
    "ufo_df.dropna()[ufo_df['city'].dropna().str.contains(\"\\)$|\\(\")]"
   ]
  },
  {
   "cell_type": "markdown",
   "metadata": {},
   "source": [
    "There are only two entries with (these types of) entry errors left! We can manually impute them:"
   ]
  },
  {
   "cell_type": "code",
   "execution_count": 73,
   "metadata": {},
   "outputs": [
    {
     "data": {
      "text/plain": [
       "array(['New York City', 'New York', 'New York Mills', 'West New York',\n",
       "       'New York State Thruway / Catskill', 'New York City, Manhattan',\n",
       "       'New York City/Far Rockaway', 'New York City/Staten Island',\n",
       "       'New York City/Philadelphia', 'New York/Philadelphia',\n",
       "       'New York City/Central Park', 'New York/San Francisco',\n",
       "       'Central New York', 'East New York', 'New York Worlds Fair'],\n",
       "      dtype=object)"
      ]
     },
     "execution_count": 73,
     "metadata": {},
     "output_type": "execute_result"
    }
   ],
   "source": [
    "ufo_df.loc[115268, 'city'] = 'Aliquippa'  # The largest 'city' in Beaver County, PA\n",
    "ufo_df.loc[25404, 'city'] = 'Cedar Rapids'\n",
    "\n",
    "ufo_df[ufo_df['city'].str.contains(\"New York\")]['city'].unique()"
   ]
  },
  {
   "cell_type": "markdown",
   "metadata": {},
   "source": [
    "There are plenty of locations that are between main population centers, often separated by a '/' or a '&'. Most cases, the larger settlement is on the left of the slash or ampersand."
   ]
  },
  {
   "cell_type": "code",
   "execution_count": 74,
   "metadata": {},
   "outputs": [],
   "source": [
    "ufo_df['city'] = [re.sub(\"\\s*/.*\", \"\", x.title()) for x in ufo_df['city']]\n",
    "ufo_df['city'] = [re.sub(\"\\s*&.*\", \"\", x.title()) for x in ufo_df['city']]\n",
    "ufo_df['city'] = [re.sub(\"^[Bb]etween\", \",\", x.title()) for x in ufo_df['city']]"
   ]
  },
  {
   "cell_type": "markdown",
   "metadata": {},
   "source": [
    "Check. Check. **CHECK.** _Always_ check!"
   ]
  },
  {
   "cell_type": "code",
   "execution_count": 75,
   "metadata": {},
   "outputs": [
    {
     "data": {
      "text/plain": [
       "array(['New York City', 'New York', 'New York Mills', 'West New York',\n",
       "       'New York State Thruway', 'New York City, Manhattan',\n",
       "       'Central New York', 'East New York', 'New York Worlds Fair'],\n",
       "      dtype=object)"
      ]
     },
     "execution_count": 75,
     "metadata": {},
     "output_type": "execute_result"
    }
   ],
   "source": [
    "ufo_df[ufo_df['city'].str.contains(\"New York\")]['city'].unique()"
   ]
  },
  {
   "cell_type": "markdown",
   "metadata": {},
   "source": [
    "Looks good. Mostly."
   ]
  },
  {
   "cell_type": "markdown",
   "metadata": {},
   "source": [
    "#### TEST EFFECT OF NOT INCLUDING ALL THE VARIANTS OF NEW YORK"
   ]
  },
  {
   "cell_type": "code",
   "execution_count": 78,
   "metadata": {},
   "outputs": [],
   "source": [
    "uniq_ny = ufo_df[ufo_df['city'].str.contains(\"New York\")]['city'].unique()\n",
    "for uniq in uniq_ny:\n",
    "    ufo_df[ufo_df['city'] == uniq]['city'].count()"
   ]
  },
  {
   "cell_type": "code",
   "execution_count": null,
   "metadata": {},
   "outputs": [],
   "source": [
    "731\n",
    "29\n",
    "4\n",
    "6\n",
    "1\n",
    "1\n",
    "1\n",
    "1\n",
    "1\n",
    "\n",
    "SO NOT VERY MUCH (29/731 = 4%)"
   ]
  },
  {
   "cell_type": "markdown",
   "metadata": {},
   "source": [
    "#### Create function based on this, taking in city name"
   ]
  },
  {
   "cell_type": "code",
   "execution_count": 79,
   "metadata": {},
   "outputs": [],
   "source": [
    "def getUniqueSimilarCities(df, city_name):\n",
    "    \"\"\"docstring for getUniqueSimilarCities\"\"\"\n",
    "    uniq_list = df[df['city'].str.contains(city_name)]['city'].unique()\n",
    "    name_count = []\n",
    "    for uniq in uniq_list:\n",
    "        name_count.append((uniq, df[df['city'] == uniq]['city'].count()))\n",
    "    return name_count"
   ]
  },
  {
   "cell_type": "code",
   "execution_count": null,
   "metadata": {},
   "outputs": [],
   "source": [
    "def getUniqueSimilarCities(df, city_name):\n",
    "    \"\"\"docstring for getUniqueSimilarCities\"\"\"\n",
    "    uniq_list = df[df['city'].str.contains(city_name)]['city'].unique()\n",
    "    count_df = pd.DataFrame(uniq_list, columns=['city'])\n",
    "    name_count = []\n",
    "    for uniq in uniq_list:\n",
    "        name_count.append(df[df['city'] == uniq]['city'].count())\n",
    "    count_df['count'] = name_count\n",
    "    return count_df.sort_values('count', ascending=False)\n",
    "\n",
    "\n",
    "counter = 0\n",
    "for Idx in city_pop['city'].head(100).tail(50):\n",
    "    Z = getUniqueSimilarCities(ufo_df, Idx)\n",
    "    fraction_remainder = Z['count'][1:].sum()/Z['count'].sum()\n",
    "    fraction_secondary = 1 - Z['count'][0:2].sum()/Z['count'].sum()\n",
    "    if fraction_remainder > 0.05:\n",
    "        counter += 1\n",
    "        print(\n",
    "            \"{0} City: {1} Fraction of similar city names {2:.2%};\\\n",
    "            fraction of primary and secondary only {3:.2%}\".format(\n",
    "                counter, Z['city'][0], fraction_remainder, fraction_secondary)\n",
    "        )\n",
    "\n",
    "#getUniqueSimilarCities(ufo_df, \"Chicago\")"
   ]
  },
  {
   "cell_type": "code",
   "execution_count": 80,
   "metadata": {},
   "outputs": [
    {
     "name": "stderr",
     "output_type": "stream",
     "text": [
      "/home/ra/anaconda3/lib/python3.6/site-packages/pandas/core/indexing.py:189: SettingWithCopyWarning: \n",
      "A value is trying to be set on a copy of a slice from a DataFrame\n",
      "\n",
      "See the caveats in the documentation: http://pandas.pydata.org/pandas-docs/stable/indexing.html#indexing-view-versus-copy\n",
      "  self._setitem_with_indexer(indexer, value)\n"
     ]
    }
   ],
   "source": [
    "def purgeDirectionalModifiers(df, city_name):\n",
    "    \"\"\"Strip off directional prefixes North, South etc. from city names in DataFrame df\"\"\"\n",
    "    direction_list = [\"North\", \"N.\", \"East\", \"E.\", \"South\", \"S.\", \"West\", \"W.\"]\n",
    "    direction_regex = re.compile(' |'.join(direction_list) + ' ')\n",
    "    match_idx = df['city'].str.contains(city_name).index\n",
    "    df['city'].loc[match_idx] = [re.sub(direction_regex, \"\", x) for x in df['city'].loc[match_idx]]\n",
    "\n",
    "\n",
    "def purgeCitySuffix(df, city_name):\n",
    "    \"\"\"Strip specifiers for city, county etc.\"\"\"\n",
    "    suffix_list = [\"City\", \"County\", \"Area\", \"Bay\", \"Airport\", \"D.C.\", \"Dc\", \",\"]\n",
    "    suffix_regex = re.compile(' ' + '$| '.join(suffix_list) + \"$\")\n",
    "    match_idx = df['city'].str.contains(city_name).index\n",
    "    df['city'].loc[match_idx] = [re.sub(suffix_regex, \"\", x) for x in df['city'].loc[match_idx]]\n",
    "\n",
    "\n",
    "cities_to_clean = [\"Sacramento\", \"Seattle\", \"Milwaukee\", \"Baltimore\",\n",
    "                   \"Las Vegas\", \"Boston\", \"San Francisco\", \"Washington\",\n",
    "                   \"Chicago\", \"Los Angeles\", \"New York\"]\n",
    "\n",
    "for city in cities_to_clean:\n",
    "    purgeDirectionalModifiers(ufo_df, city)\n",
    "    purgeCitySuffix(ufo_df, city)"
   ]
  },
  {
   "cell_type": "markdown",
   "metadata": {},
   "source": [
    "How many cities are there in this data set?"
   ]
  },
  {
   "cell_type": "code",
   "execution_count": 82,
   "metadata": {},
   "outputs": [
    {
     "data": {
      "text/plain": [
       "18366"
      ]
     },
     "execution_count": 82,
     "metadata": {},
     "output_type": "execute_result"
    }
   ],
   "source": [
    "len(ufo_df['city'].unique())"
   ]
  },
  {
   "cell_type": "markdown",
   "metadata": {},
   "source": [
    "The US cities aren't uniquely specified; we need to add their US state:"
   ]
  },
  {
   "cell_type": "code",
   "execution_count": 83,
   "metadata": {},
   "outputs": [
    {
     "data": {
      "text/plain": [
       "Text(0.5,1,'UFO reports by city')"
      ]
     },
     "execution_count": 83,
     "metadata": {},
     "output_type": "execute_result"
    },
    {
     "data": {
      "image/png": "[encoded data removed]",
      "text/plain": [
       "<Figure size 432x288 with 1 Axes>"
      ]
     },
     "metadata": {},
     "output_type": "display_data"
    }
   ],
   "source": [
    "ufo_df['city'] = ufo_df['city'] + ', ' + ufo_df['state']\n",
    "\n",
    "ufo_df.groupby('city')['posted'].count().sort_values(ascending=False).head(10).plot.barh()\n",
    "plt.gca().invert_yaxis()\n",
    "plt.ylabel(\"US city\")\n",
    "plt.xlabel(\"Number of reports\")\n",
    "plt.title(\"UFO reports by city\", fontname=\"Alien Invasion\", fontsize=16)"
   ]
  },
  {
   "cell_type": "markdown",
   "metadata": {},
   "source": [
    "How about the observations per capita? We'll need more data.\n",
    "\n",
    "The US census bureau for the 770 most populous cities: https://factfinder.census.gov/faces/tableservices/jsf/pages/productview.xhtml\n",
    "\n",
    "However, there are far too many columns for our needs."
   ]
  },
  {
   "cell_type": "code",
   "execution_count": 84,
   "metadata": {},
   "outputs": [],
   "source": [
    "city_pop = pd.read_csv(\"PEP_2017_PEPANNRSIP.US12A_with_ann.csv\",\n",
    "                       encoding='latin-1')"
   ]
  },
  {
   "cell_type": "markdown",
   "metadata": {},
   "source": [
    "Rename the non-extraneous census-specific column labels and drop the rest:"
   ]
  },
  {
   "cell_type": "code",
   "execution_count": 85,
   "metadata": {},
   "outputs": [],
   "source": [
    "city_pop = city_pop.rename(index=str, columns={'GC_RANK.rank-label': 'rank', 'GC_RANK.display-label.1': 'city_state', 'respop72017': 'pop'})\n",
    "city_pop = city_pop[['rank', 'city_state', 'pop']]"
   ]
  },
  {
   "cell_type": "markdown",
   "metadata": {},
   "source": [
    "Or we could have used the `.drop()` method as above.\n",
    "\n",
    "Further cleaning:"
   ]
  },
  {
   "cell_type": "code",
   "execution_count": 87,
   "metadata": {},
   "outputs": [],
   "source": [
    "city_pop['city_state'] = city_pop['city_state'].str.replace(' \\(balance\\)', '')  # This term means something to the Census Bureau..."
   ]
  },
  {
   "cell_type": "markdown",
   "metadata": {},
   "source": [
    "There are still a few (eight) cities with hyphens or official county designations or other weirdnesses\n",
    "\n",
    "Let's impute them manually, otherwise we'd miss out on some major cities!"
   ]
  },
  {
   "cell_type": "code",
   "execution_count": 88,
   "metadata": {},
   "outputs": [],
   "source": [
    "city_pop.loc['23', 'city_state'] = \"Nashville city, Tennessee\"\n",
    "city_pop.loc['59', 'city_state'] = \"Lexington city, Kentucky\"\n",
    "city_pop.loc['88', 'city_state'] = \"Winston city, North Carolina\"\n",
    "city_pop.loc['121', 'city_state'] = \"Augusta city, Georgia\"\n",
    "city_pop.loc['171', 'city_state'] = \"Macon County, Georgia\"\n",
    "city_pop.loc['219', 'city_state'] = \"Athens County, Georgia\"\n",
    "city_pop.loc['28', 'city_state'] = \"Louisville city, Kentucky\"\n",
    "city_pop.loc['55', 'city_state'] = \"Honolulu city, Hawaii\""
   ]
  },
  {
   "cell_type": "markdown",
   "metadata": {},
   "source": [
    "The convention is largely \"X city, Y\" where X is the name of the city and Y is the full name of the state. So we _could have_ split by the \" city, \" delimiter.\n",
    "Unfortunately there are towns, cities, villages and counties in the mix. This means we have to dip briefly into the murky waters of regular expressions (regex):"
   ]
  },
  {
   "cell_type": "code",
   "execution_count": 89,
   "metadata": {},
   "outputs": [],
   "source": [
    "city_delimiter = ' [Cc]ity, '\n",
    "city_delimiter += '| town, '  # Note the pipe operator '|', used as logical OR\n",
    "city_delimiter += '| [Cc]ounty, '\n",
    "city_delimiter += '| village, '\n",
    "city_delimiter += '| municipality, '"
   ]
  },
  {
   "cell_type": "markdown",
   "metadata": {},
   "source": [
    "Now we can split the cities and states according to this delimiter:"
   ]
  },
  {
   "cell_type": "code",
   "execution_count": 90,
   "metadata": {},
   "outputs": [],
   "source": [
    "city_pop['city'] = [re.split(city_delimiter, x)[0] for x in city_pop['city_state']]\n",
    "city_pop['state'] = [re.split(city_delimiter, x)[-1] for x in city_pop['city_state']]"
   ]
  },
  {
   "cell_type": "markdown",
   "metadata": {},
   "source": [
    "A fun aside: how many cities have the same name in the US?"
   ]
  },
  {
   "cell_type": "code",
   "execution_count": 91,
   "metadata": {},
   "outputs": [
    {
     "data": {
      "text/plain": [
       "city\n",
       "Springfield    5\n",
       "Lakewood       4\n",
       "Albany         3\n",
       "Bloomington    3\n",
       "Charleston     2\n",
       "Name: state, dtype: int64"
      ]
     },
     "execution_count": 91,
     "metadata": {},
     "output_type": "execute_result"
    }
   ],
   "source": [
    "city_pop.groupby('city').count().sort_values('state', ascending=False)['state'].head(5)"
   ]
  },
  {
   "cell_type": "markdown",
   "metadata": {},
   "source": [
    "There are _five_ Springfields!\n",
    "\n",
    "There are 36 major cities in the US with duplicated names. We'll need to retain the state information to disambiguate. This is why people have to specify the US state. You don't want to get on the plane to Portland, only to realize you're heading to the complete opposite coast!\n",
    "\n",
    "Sanity check to make sure we imported fine and the data looks like it make sense:"
   ]
  },
  {
   "cell_type": "code",
   "execution_count": 92,
   "metadata": {},
   "outputs": [
    {
     "data": {
      "text/html": [
       "<div>\n",
       "<style scoped>\n",
       "    .dataframe tbody tr th:only-of-type {\n",
       "        vertical-align: middle;\n",
       "    }\n",
       "\n",
       "    .dataframe tbody tr th {\n",
       "        vertical-align: top;\n",
       "    }\n",
       "\n",
       "    .dataframe thead th {\n",
       "        text-align: right;\n",
       "    }\n",
       "</style>\n",
       "<table border=\"1\" class=\"dataframe\">\n",
       "  <thead>\n",
       "    <tr style=\"text-align: right;\">\n",
       "      <th></th>\n",
       "      <th>rank</th>\n",
       "      <th>city_state</th>\n",
       "      <th>pop</th>\n",
       "      <th>city</th>\n",
       "      <th>state</th>\n",
       "    </tr>\n",
       "  </thead>\n",
       "  <tbody>\n",
       "    <tr>\n",
       "      <th>162</th>\n",
       "      <td>163</td>\n",
       "      <td>Palmdale city, California</td>\n",
       "      <td>157519</td>\n",
       "      <td>Palmdale</td>\n",
       "      <td>California</td>\n",
       "    </tr>\n",
       "    <tr>\n",
       "      <th>256</th>\n",
       "      <td>257</td>\n",
       "      <td>Westminster city, Colorado</td>\n",
       "      <td>112812</td>\n",
       "      <td>Westminster</td>\n",
       "      <td>Colorado</td>\n",
       "    </tr>\n",
       "    <tr>\n",
       "      <th>717</th>\n",
       "      <td>718</td>\n",
       "      <td>Lenexa city, Kansas</td>\n",
       "      <td>53553</td>\n",
       "      <td>Lenexa</td>\n",
       "      <td>Kansas</td>\n",
       "    </tr>\n",
       "    <tr>\n",
       "      <th>745</th>\n",
       "      <td>746</td>\n",
       "      <td>Olympia city, Washington</td>\n",
       "      <td>51609</td>\n",
       "      <td>Olympia</td>\n",
       "      <td>Washington</td>\n",
       "    </tr>\n",
       "    <tr>\n",
       "      <th>198</th>\n",
       "      <td>199</td>\n",
       "      <td>Roseville city, California</td>\n",
       "      <td>135329</td>\n",
       "      <td>Roseville</td>\n",
       "      <td>California</td>\n",
       "    </tr>\n",
       "  </tbody>\n",
       "</table>\n",
       "</div>"
      ],
      "text/plain": [
       "     rank                  city_state     pop         city       state\n",
       "162   163   Palmdale city, California  157519     Palmdale  California\n",
       "256   257  Westminster city, Colorado  112812  Westminster    Colorado\n",
       "717   718         Lenexa city, Kansas   53553       Lenexa      Kansas\n",
       "745   746    Olympia city, Washington   51609      Olympia  Washington\n",
       "198   199  Roseville city, California  135329    Roseville  California"
      ]
     },
     "execution_count": 92,
     "metadata": {},
     "output_type": "execute_result"
    }
   ],
   "source": [
    "city_pop.sample(n=5)"
   ]
  },
  {
   "cell_type": "markdown",
   "metadata": {},
   "source": [
    "I created a text file with all the states' names and abbreviations, `state_abbrev.txt`:"
   ]
  },
  {
   "cell_type": "code",
   "execution_count": 95,
   "metadata": {},
   "outputs": [],
   "source": [
    "state_ref = pd.read_csv(\"state_abbrev.txt\")"
   ]
  },
  {
   "cell_type": "markdown",
   "metadata": {},
   "source": [
    "Let's add the abbreviation references to the `city_pop` DataFrame"
   ]
  },
  {
   "cell_type": "code",
   "execution_count": 96,
   "metadata": {},
   "outputs": [],
   "source": [
    "city_pop = city_pop.merge(state_ref, on='state', how='left')"
   ]
  },
  {
   "cell_type": "markdown",
   "metadata": {},
   "source": [
    "### Prepare to be merged!\n",
    "**NOTE:** by doing this, we are automatically resigning ourselves to analyzing US-only data; the following transformations make no sense if there is no associated US state.\n",
    "\n",
    "How much data will this discard?"
   ]
  },
  {
   "cell_type": "code",
   "execution_count": 98,
   "metadata": {},
   "outputs": [
    {
     "data": {
      "text/plain": [
       "0.07189118610945378"
      ]
     },
     "execution_count": 98,
     "metadata": {},
     "output_type": "execute_result"
    }
   ],
   "source": [
    "ufo_df['state'].isnull().sum()/len(ufo_df)"
   ]
  },
  {
   "cell_type": "markdown",
   "metadata": {},
   "source": [
    "So 7.2% of the entries have no defined state. By inspection, most of these are from outside of the US. This could be a follow-up investigation.\n",
    "\n",
    "Also..."
   ]
  },
  {
   "cell_type": "code",
   "execution_count": 99,
   "metadata": {},
   "outputs": [
    {
     "data": {
      "text/plain": [
       "47929"
      ]
     },
     "execution_count": 99,
     "metadata": {},
     "output_type": "execute_result"
    }
   ],
   "source": [
    "city_pop['pop'].min()"
   ]
  },
  {
   "cell_type": "markdown",
   "metadata": {},
   "source": [
    "...cities with populations of at less than 47,929 will be omitted.\n",
    "\n",
    "Combine the city and state into one column to make merge syntax easier"
   ]
  },
  {
   "cell_type": "code",
   "execution_count": 100,
   "metadata": {},
   "outputs": [],
   "source": [
    "city_pop['city_abbrev'] = city_pop['city'] + ', ' + city_pop['abbreviation']"
   ]
  },
  {
   "cell_type": "markdown",
   "metadata": {},
   "source": [
    "Ugh. Now we have too many columns. We only wanted two!"
   ]
  },
  {
   "cell_type": "code",
   "execution_count": 101,
   "metadata": {},
   "outputs": [],
   "source": [
    "city_pop = city_pop[['city_abbrev', 'pop']]"
   ]
  },
  {
   "cell_type": "markdown",
   "metadata": {},
   "source": [
    "Let's check the ten most populous cities:"
   ]
  },
  {
   "cell_type": "code",
   "execution_count": 102,
   "metadata": {},
   "outputs": [
    {
     "data": {
      "text/plain": [
       "Text(0.5,1,'Ten most populous US cities')"
      ]
     },
     "execution_count": 102,
     "metadata": {},
     "output_type": "execute_result"
    },
    {
     "data": {
      "image/png": "[encoded data removed]",
      "text/plain": [
       "<Figure size 432x288 with 1 Axes>"
      ]
     },
     "metadata": {},
     "output_type": "display_data"
    }
   ],
   "source": [
    "city_pop.sort_values('pop', ascending=False).head(10).plot.barh(x='city_abbrev', legend=False)\n",
    "plt.gca().invert_yaxis()\n",
    "plt.xlabel('Population')\n",
    "plt.ylabel('US city')\n",
    "plt.title(\"Ten most populous US cities\", fontname=\"Covert Ops\", fontsize=16)"
   ]
  },
  {
   "cell_type": "markdown",
   "metadata": {},
   "source": [
    "Merge the city_pop references into the ufo_df DataFrame:"
   ]
  },
  {
   "cell_type": "code",
   "execution_count": 103,
   "metadata": {},
   "outputs": [],
   "source": [
    "ufo_merged = ufo_df.merge(city_pop, left_on='city', right_on='city_abbrev', how='left')"
   ]
  },
  {
   "cell_type": "markdown",
   "metadata": {},
   "source": [
    "Get rid of the resulting city `NaNs`:"
   ]
  },
  {
   "cell_type": "code",
   "execution_count": 104,
   "metadata": {},
   "outputs": [],
   "source": [
    "ufo_merged.dropna(subset=['city'], inplace=True)"
   ]
  },
  {
   "cell_type": "markdown",
   "metadata": {},
   "source": [
    "So, the cities with the most recorded UFO sightings are:"
   ]
  },
  {
   "cell_type": "code",
   "execution_count": 108,
   "metadata": {},
   "outputs": [
    {
     "data": {
      "text/plain": [
       "<matplotlib.axes._subplots.AxesSubplot at 0x7fcb1c189f28>"
      ]
     },
     "execution_count": 108,
     "metadata": {},
     "output_type": "execute_result"
    },
    {
     "data": {
      "image/png": "[encoded data removed]",
      "text/plain": [
       "<Figure size 432x288 with 1 Axes>"
      ]
     },
     "metadata": {},
     "output_type": "display_data"
    }
   ],
   "source": [
    "ufo_merged.groupby('city')['posted'].count().sort_values(ascending=False).head(25).plot.bar()"
   ]
  },
  {
   "cell_type": "markdown",
   "metadata": {},
   "source": [
    "Finally, what are the cities with highest recorded UFO sightings per capita?"
   ]
  },
  {
   "cell_type": "code",
   "execution_count": 106,
   "metadata": {},
   "outputs": [],
   "source": [
    "A = ufo_merged.groupby('city')['posted'].count()\n",
    "A = pd.DataFrame(A)"
   ]
  },
  {
   "cell_type": "code",
   "execution_count": 107,
   "metadata": {},
   "outputs": [
    {
     "data": {
      "text/html": [
       "<div>\n",
       "<style scoped>\n",
       "    .dataframe tbody tr th:only-of-type {\n",
       "        vertical-align: middle;\n",
       "    }\n",
       "\n",
       "    .dataframe tbody tr th {\n",
       "        vertical-align: top;\n",
       "    }\n",
       "\n",
       "    .dataframe thead th {\n",
       "        text-align: right;\n",
       "    }\n",
       "</style>\n",
       "<table border=\"1\" class=\"dataframe\">\n",
       "  <thead>\n",
       "    <tr style=\"text-align: right;\">\n",
       "      <th></th>\n",
       "      <th>posted</th>\n",
       "      <th>pop</th>\n",
       "      <th>obs_per_1000</th>\n",
       "    </tr>\n",
       "    <tr>\n",
       "      <th>city</th>\n",
       "      <th></th>\n",
       "      <th></th>\n",
       "      <th></th>\n",
       "    </tr>\n",
       "  </thead>\n",
       "  <tbody>\n",
       "    <tr>\n",
       "      <th>Tinley Park, IL</th>\n",
       "      <td>158</td>\n",
       "      <td>56668.0</td>\n",
       "      <td>2.788170</td>\n",
       "    </tr>\n",
       "    <tr>\n",
       "      <th>Sarasota, FL</th>\n",
       "      <td>111</td>\n",
       "      <td>56994.0</td>\n",
       "      <td>1.947573</td>\n",
       "    </tr>\n",
       "    <tr>\n",
       "      <th>Olympia, WA</th>\n",
       "      <td>96</td>\n",
       "      <td>51609.0</td>\n",
       "      <td>1.860141</td>\n",
       "    </tr>\n",
       "    <tr>\n",
       "      <th>Bellingham, WA</th>\n",
       "      <td>121</td>\n",
       "      <td>89045.0</td>\n",
       "      <td>1.358863</td>\n",
       "    </tr>\n",
       "    <tr>\n",
       "      <th>Santa Fe, NM</th>\n",
       "      <td>109</td>\n",
       "      <td>83776.0</td>\n",
       "      <td>1.301089</td>\n",
       "    </tr>\n",
       "    <tr>\n",
       "      <th>Pensacola, FL</th>\n",
       "      <td>68</td>\n",
       "      <td>52590.0</td>\n",
       "      <td>1.293021</td>\n",
       "    </tr>\n",
       "    <tr>\n",
       "      <th>Everett, WA</th>\n",
       "      <td>141</td>\n",
       "      <td>110079.0</td>\n",
       "      <td>1.280898</td>\n",
       "    </tr>\n",
       "    <tr>\n",
       "      <th>Auburn, WA</th>\n",
       "      <td>100</td>\n",
       "      <td>80776.0</td>\n",
       "      <td>1.237991</td>\n",
       "    </tr>\n",
       "    <tr>\n",
       "      <th>Orlando, FL</th>\n",
       "      <td>337</td>\n",
       "      <td>280257.0</td>\n",
       "      <td>1.202468</td>\n",
       "    </tr>\n",
       "    <tr>\n",
       "      <th>Yakima, WA</th>\n",
       "      <td>111</td>\n",
       "      <td>93667.0</td>\n",
       "      <td>1.185049</td>\n",
       "    </tr>\n",
       "    <tr>\n",
       "      <th>Ocala, FL</th>\n",
       "      <td>66</td>\n",
       "      <td>59110.0</td>\n",
       "      <td>1.116562</td>\n",
       "    </tr>\n",
       "    <tr>\n",
       "      <th>Vancouver, WA</th>\n",
       "      <td>193</td>\n",
       "      <td>175673.0</td>\n",
       "      <td>1.098632</td>\n",
       "    </tr>\n",
       "    <tr>\n",
       "      <th>Bradenton, FL</th>\n",
       "      <td>62</td>\n",
       "      <td>56508.0</td>\n",
       "      <td>1.097190</td>\n",
       "    </tr>\n",
       "    <tr>\n",
       "      <th>Santa Cruz, CA</th>\n",
       "      <td>68</td>\n",
       "      <td>65021.0</td>\n",
       "      <td>1.045816</td>\n",
       "    </tr>\n",
       "    <tr>\n",
       "      <th>Seattle, WA</th>\n",
       "      <td>736</td>\n",
       "      <td>724745.0</td>\n",
       "      <td>1.015530</td>\n",
       "    </tr>\n",
       "    <tr>\n",
       "      <th>Marietta, GA</th>\n",
       "      <td>61</td>\n",
       "      <td>61048.0</td>\n",
       "      <td>0.999214</td>\n",
       "    </tr>\n",
       "    <tr>\n",
       "      <th>Redmond, WA</th>\n",
       "      <td>63</td>\n",
       "      <td>64291.0</td>\n",
       "      <td>0.979919</td>\n",
       "    </tr>\n",
       "    <tr>\n",
       "      <th>Santa Barbara, CA</th>\n",
       "      <td>90</td>\n",
       "      <td>92101.0</td>\n",
       "      <td>0.977188</td>\n",
       "    </tr>\n",
       "    <tr>\n",
       "      <th>Redding, CA</th>\n",
       "      <td>88</td>\n",
       "      <td>91794.0</td>\n",
       "      <td>0.958668</td>\n",
       "    </tr>\n",
       "    <tr>\n",
       "      <th>Burbank, CA</th>\n",
       "      <td>100</td>\n",
       "      <td>104834.0</td>\n",
       "      <td>0.953889</td>\n",
       "    </tr>\n",
       "    <tr>\n",
       "      <th>Albany, OR</th>\n",
       "      <td>51</td>\n",
       "      <td>53503.0</td>\n",
       "      <td>0.953218</td>\n",
       "    </tr>\n",
       "    <tr>\n",
       "      <th>Grand Junction, CO</th>\n",
       "      <td>59</td>\n",
       "      <td>62475.0</td>\n",
       "      <td>0.944378</td>\n",
       "    </tr>\n",
       "    <tr>\n",
       "      <th>Missoula, MT</th>\n",
       "      <td>69</td>\n",
       "      <td>73340.0</td>\n",
       "      <td>0.940824</td>\n",
       "    </tr>\n",
       "    <tr>\n",
       "      <th>Milford, CT</th>\n",
       "      <td>49</td>\n",
       "      <td>52970.0</td>\n",
       "      <td>0.925052</td>\n",
       "    </tr>\n",
       "    <tr>\n",
       "      <th>Las Vegas, NV</th>\n",
       "      <td>592</td>\n",
       "      <td>641676.0</td>\n",
       "      <td>0.922584</td>\n",
       "    </tr>\n",
       "  </tbody>\n",
       "</table>\n",
       "</div>"
      ],
      "text/plain": [
       "                    posted       pop  obs_per_1000\n",
       "city                                              \n",
       "Tinley Park, IL        158   56668.0      2.788170\n",
       "Sarasota, FL           111   56994.0      1.947573\n",
       "Olympia, WA             96   51609.0      1.860141\n",
       "Bellingham, WA         121   89045.0      1.358863\n",
       "Santa Fe, NM           109   83776.0      1.301089\n",
       "Pensacola, FL           68   52590.0      1.293021\n",
       "Everett, WA            141  110079.0      1.280898\n",
       "Auburn, WA             100   80776.0      1.237991\n",
       "Orlando, FL            337  280257.0      1.202468\n",
       "Yakima, WA             111   93667.0      1.185049\n",
       "Ocala, FL               66   59110.0      1.116562\n",
       "Vancouver, WA          193  175673.0      1.098632\n",
       "Bradenton, FL           62   56508.0      1.097190\n",
       "Santa Cruz, CA          68   65021.0      1.045816\n",
       "Seattle, WA            736  724745.0      1.015530\n",
       "Marietta, GA            61   61048.0      0.999214\n",
       "Redmond, WA             63   64291.0      0.979919\n",
       "Santa Barbara, CA       90   92101.0      0.977188\n",
       "Redding, CA             88   91794.0      0.958668\n",
       "Burbank, CA            100  104834.0      0.953889\n",
       "Albany, OR              51   53503.0      0.953218\n",
       "Grand Junction, CO      59   62475.0      0.944378\n",
       "Missoula, MT            69   73340.0      0.940824\n",
       "Milford, CT             49   52970.0      0.925052\n",
       "Las Vegas, NV          592  641676.0      0.922584"
      ]
     },
     "execution_count": 107,
     "metadata": {},
     "output_type": "execute_result"
    }
   ],
   "source": [
    "A = A.join(city_pop.set_index('city_abbrev'), how='left')\n",
    "\n",
    "A.dropna(subset=['pop'], inplace=True)\n",
    "A['obs_per_1000'] = 1000*A['posted']/A['pop']\n",
    "\n",
    "A.sort_values('obs_per_1000', ascending=False).head(25)"
   ]
  },
  {
   "cell_type": "markdown",
   "metadata": {},
   "source": [
    "Wow! Who would have thought that Tinley Park, Illinois would have the most UFO reports per capita? The second, Sarasota, FL, isn't even close!"
   ]
  },
  {
   "cell_type": "code",
   "execution_count": 109,
   "metadata": {},
   "outputs": [
    {
     "data": {
      "text/plain": [
       "Text(0.5,1,'Cities with highest UFO reports per capita')"
      ]
     },
     "execution_count": 109,
     "metadata": {},
     "output_type": "execute_result"
    },
    {
     "data": {
      "image/png": "[encoded data removed]",
      "text/plain": [
       "<Figure size 432x288 with 1 Axes>"
      ]
     },
     "metadata": {},
     "output_type": "display_data"
    }
   ],
   "source": [
    "A.sort_values('obs_per_1000', ascending=False)['obs_per_1000'].head(10).plot.barh(legend=False)\n",
    "plt.gca().invert_yaxis()\n",
    "plt.ylabel(\"City\")\n",
    "plt.xlabel(\"Reports per 1,000 residents\")\n",
    "plt.title(\"Cities with highest UFO reports per capita\", fontname=\"Covert Ops\", fontsize=16)"
   ]
  },
  {
   "cell_type": "markdown",
   "metadata": {},
   "source": [
    "What are the states with the most observations?"
   ]
  },
  {
   "cell_type": "code",
   "execution_count": 110,
   "metadata": {},
   "outputs": [
    {
     "data": {
      "text/plain": [
       "state\n",
       "CA    13235\n",
       "FL     6312\n",
       "WA     5767\n",
       "TX     4833\n",
       "NY     4580\n",
       "AZ     3909\n",
       "PA     3784\n",
       "IL     3521\n",
       "OH     3470\n",
       "MI     2922\n",
       "Name: posted, dtype: int64"
      ]
     },
     "execution_count": 110,
     "metadata": {},
     "output_type": "execute_result"
    }
   ],
   "source": [
    "ufo_merged.groupby('state')['posted'].count().sort_values(ascending=False).head(10)"
   ]
  },
  {
   "cell_type": "markdown",
   "metadata": {},
   "source": [
    "## Case studies"
   ]
  },
  {
   "cell_type": "markdown",
   "metadata": {},
   "source": [
    "### The Phoenix Lights"
   ]
  },
  {
   "cell_type": "code",
   "execution_count": 115,
   "metadata": {},
   "outputs": [
    {
     "data": {
      "text/plain": [
       "<matplotlib.axes._subplots.AxesSubplot at 0x7fcb1bd205f8>"
      ]
     },
     "execution_count": 115,
     "metadata": {},
     "output_type": "execute_result"
    },
    {
     "data": {
      "image/png": "[encoded data removed]",
      "text/plain": [
       "<Figure size 432x288 with 1 Axes>"
      ]
     },
     "metadata": {},
     "output_type": "display_data"
    }
   ],
   "source": [
    "ufo_merged[(ufo_merged['year'] > 1910) & (ufo_merged['city']=='Phoenix, AZ')].groupby('year')['posted'].count().plot(x='year', y='posted')"
   ]
  },
  {
   "cell_type": "code",
   "execution_count": 118,
   "metadata": {},
   "outputs": [
    {
     "data": {
      "text/plain": [
       "array([[<matplotlib.axes._subplots.AxesSubplot object at 0x7fcb1c0149b0>]],\n",
       "      dtype=object)"
      ]
     },
     "execution_count": 118,
     "metadata": {},
     "output_type": "execute_result"
    },
    {
     "data": {
      "image/png": "[encoded data removed]",
      "text/plain": [
       "<Figure size 432x288 with 1 Axes>"
      ]
     },
     "metadata": {},
     "output_type": "display_data"
    }
   ],
   "source": [
    "ufo_merged[ufo_merged['city'] == 'Phoenix, AZ'].hist('year', bins=100)"
   ]
  },
  {
   "cell_type": "markdown",
   "metadata": {},
   "source": [
    "### Roswell, NM in 1947"
   ]
  },
  {
   "cell_type": "code",
   "execution_count": 119,
   "metadata": {},
   "outputs": [
    {
     "data": {
      "text/plain": [
       "array([[<matplotlib.axes._subplots.AxesSubplot object at 0x7fcb1bf63208>]],\n",
       "      dtype=object)"
      ]
     },
     "execution_count": 119,
     "metadata": {},
     "output_type": "execute_result"
    },
    {
     "data": {
      "image/png": "[encoded data removed]",
      "text/plain": [
       "<Figure size 432x288 with 1 Axes>"
      ]
     },
     "metadata": {},
     "output_type": "display_data"
    }
   ],
   "source": [
    "ufo_merged[ufo_merged['city'] == 'Roswell, NM'].hist('year', bins=100)"
   ]
  },
  {
   "cell_type": "markdown",
   "metadata": {},
   "source": [
    "### Chigago O'Hare lights in 2006"
   ]
  },
  {
   "cell_type": "code",
   "execution_count": 120,
   "metadata": {},
   "outputs": [
    {
     "data": {
      "text/plain": [
       "array([[<matplotlib.axes._subplots.AxesSubplot object at 0x7fcb1c096d68>]],\n",
       "      dtype=object)"
      ]
     },
     "execution_count": 120,
     "metadata": {},
     "output_type": "execute_result"
    },
    {
     "data": {
      "image/png": "[encoded data removed]",
      "text/plain": [
       "<Figure size 432x288 with 1 Axes>"
      ]
     },
     "metadata": {},
     "output_type": "display_data"
    }
   ],
   "source": [
    "ufo_merged[ufo_merged['city'] == 'Chicago, IL'].hist('year', bins=100)"
   ]
  },
  {
   "cell_type": "markdown",
   "metadata": {},
   "source": [
    "### Aurora, TX"
   ]
  },
  {
   "cell_type": "code",
   "execution_count": 121,
   "metadata": {},
   "outputs": [
    {
     "data": {
      "text/plain": [
       "array([[<matplotlib.axes._subplots.AxesSubplot object at 0x7fcb1cd04cc0>]],\n",
       "      dtype=object)"
      ]
     },
     "execution_count": 121,
     "metadata": {},
     "output_type": "execute_result"
    },
    {
     "data": {
      "image/png": "[encoded data removed]",
      "text/plain": [
       "<Figure size 432x288 with 1 Axes>"
      ]
     },
     "metadata": {},
     "output_type": "display_data"
    }
   ],
   "source": [
    "ufo_merged[ufo_merged['city'] == 'Aurora, TX'].hist('year', bins=100)"
   ]
  },
  {
   "cell_type": "markdown",
   "metadata": {},
   "source": [
    "Ha! Just a single observation, from 1897. You didn't expect a UFO sighting from back then! The erport is quite an interesting read: http://www.nuforc.org/webreports/088/S88780.html"
   ]
  },
  {
   "cell_type": "markdown",
   "metadata": {},
   "source": [
    "**Other notes:** over 720 labels of 'HOAX' in the summary pages. This would make an interesting follow-up study."
   ]
  }
 ],
 "metadata": {
  "kernelspec": {
   "display_name": "Python 3",
   "language": "python",
   "name": "python3"
  },
  "language_info": {
   "codemirror_mode": {
    "name": "ipython",
    "version": 3
   },
   "file_extension": ".py",
   "mimetype": "text/x-python",
   "name": "python",
   "nbconvert_exporter": "python",
   "pygments_lexer": "ipython3",
   "version": "3.6.5"
  }
 },
 "nbformat": 4,
 "nbformat_minor": 2
}
